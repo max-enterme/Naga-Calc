{
  "nbformat": 4,
  "nbformat_minor": 0,
  "metadata": {
    "colab": {
      "provenance": [],
      "collapsed_sections": [],
      "private_outputs": true,
      "authorship_tag": "ABX9TyMMg2gg23p5RwlwdilED+kl",
      "include_colab_link": true
    },
    "kernelspec": {
      "name": "python3",
      "display_name": "Python 3"
    },
    "language_info": {
      "name": "python"
    }
  },
  "cells": [
    {
      "cell_type": "markdown",
      "metadata": {
        "id": "view-in-github",
        "colab_type": "text"
      },
      "source": [
        "<a href=\"https://colab.research.google.com/github/max-enterme/Naga-Calc/blob/main/NAGA%E6%8E%A1%E7%82%B9.ipynb\" target=\"_parent\"><img src=\"https://colab.research.google.com/assets/colab-badge.svg\" alt=\"Open In Colab\"/></a>"
      ]
    },
    {
      "cell_type": "code",
      "source": [
        "#@title 採点\n",
        "url = \"\" #@param {type:\"string\"}\n",
        "import json\n",
        "import requests\n",
        "from os import mkdir\n",
        "from bs4 import BeautifulSoup \n",
        "from google.colab import files\n",
        "\n",
        "def parseNagaReport(url):\n",
        "  html = requests.get(url)\n",
        "  soup = BeautifulSoup(html.content, \"html.parser\")\n",
        "  script = soup.select(\"script\")[0].text\n",
        "  scriptPerLine = script.splitlines()\n",
        "  return {\n",
        "    \"pred\": json.loads(scriptPerLine[1].split(\"=\")[1]),\n",
        "    \"playerInfo\": json.loads(scriptPerLine[2].split(\"=\")[1].replace(\"'\", \"\\\"\")),\n",
        "    \"haihuId\": scriptPerLine[3].split(\"=\")[1].strip(\"  \\\"\"),\n",
        "    \"nagaVersion\": scriptPerLine[4].split(\"=\")[1].strip(\"  \\\"\"),\n",
        "    \"gameType\": scriptPerLine[5].split(\"=\")[1].strip()\n",
        "  }\n",
        "\n",
        "pai2index = {\n",
        "  \"1m\":0, \"2m\":1, \"3m\":2, \"4m\": 3, \"5m\":4, \"5mr\":4, \"6m\":5, \"7m\": 6, \"8m\":7, \"9m\":8,\n",
        "  \"1p\":9, \"2p\":10, \"3p\":11, \"4p\":12, \"5p\":13, \"5pr\":13, \"6p\":14, \"7p\":15, \"8p\":16, \"9p\":17,\n",
        "  \"1s\":18, \"2s\":19, \"3s\":20, \"4s\":21, \"5s\":22, \"5sr\":22, \"6s\":23, \"7s\":24, \"8s\":25, \"9s\":26,\n",
        "  \"E\":27, \"S\":28, \"W\":29, \"N\":30, \"P\":31, \"F\":32, \"C\":33\n",
        "}\n",
        "\n",
        "report = parseNagaReport(url)\n",
        "\n",
        "# ここから算出処理を実装していく\n",
        "# 参考サイト: https://note.com/suoh2009/n/n7eb51e50b4e9\n",
        "\n",
        "# 出したい指標\n",
        "# - 総打数\n",
        "# - 一致数\n",
        "# - 不一致数\n",
        "# - 一致率\n",
        "# - 不一致率\n",
        "# - 悪手率\n",
        "\n",
        "# 副露の情報: 一個前の打牌情報の \"huro\" にある\n",
        "#  - 0: しない\n",
        "#  - 1: チー (上の両面)\n",
        "#  - 2: チー (カンチャン)\n",
        "#  - 3: チー (下の両面)\n",
        "#  - 4: ポン\n",
        "#  - 5: 大明槓(?)\n",
        "# 暗槓の情報: 実行したら、type が \"ankan\" で入ってくる\n",
        "# 暗槓するかどうかの判断は、type = tsumo の時に \"kan\" に入ってくる\n",
        "\n",
        "def create_info():\n",
        "    return {\n",
        "        \"total_count\": 0,\n",
        "        \"total_score_diff\": 0,\n",
        "        \"same_count\": 0\n",
        "    }\n",
        "\n",
        "actor_logs = {\n",
        "    0: \"\",\n",
        "    1: \"\",\n",
        "    2: \"\",\n",
        "    3: \"\",\n",
        "}\n",
        "\n",
        "actor_infos = {\n",
        "    0: create_info(),\n",
        "    1: create_info(),\n",
        "    2: create_info(),\n",
        "    3: create_info(),\n",
        "}\n",
        "\n",
        "for actions in report[\"pred\"]:\n",
        "  for action in actions:\n",
        "    msg = action[\"info\"][\"msg\"]\n",
        "    if \"actor\" in msg:\n",
        "      if \"real_dahai\" in msg and msg[\"real_dahai\"] != None and \"pred_dahai\" in msg:\n",
        "        actor = msg[\"actor\"]\n",
        "        if not msg[\"reached\"]:\n",
        "          dahai_score = action[\"dahai_pred\"][pai2index[msg[\"real_dahai\"]]]\n",
        "          pred_score = action[\"dahai_pred\"][pai2index[msg[\"pred_dahai\"]]]\n",
        "          actor_infos[actor][\"total_score_diff\"] += pred_score - dahai_score\n",
        "          actor_infos[actor][\"total_count\"] += 1\n",
        "          if msg[\"real_dahai\"] == msg[\"pred_dahai\"]:\n",
        "            actor_infos[actor][\"same_count\"] += 1\n",
        "          \n",
        "        actor_logs[actor] += f'{msg[\"type\"]}:{msg[\"pai\"]}, 打牌:{msg[\"real_dahai\"]}, 推奨:{msg[\"pred_dahai\"]} => {dahai_score}:{pred_score}, {sum(action[\"dahai_pred\"])}, 立直: {msg[\"reached\"]}\\n'\n",
        "\n",
        "for number, info in actor_infos.items():\n",
        "  print(\"--------------------------------------------------------\")\n",
        "  print(f'プレイヤー名: {report[\"playerInfo\"][\"name\"][number]}')\n",
        "  print(f'打数: {info[\"total_count\"]}, 一致数: {info[\"same_count\"]}, 一致率: {round(info[\"same_count\"]/info[\"total_count\"]*100,2)}%')\n",
        "  print(f'打牌評価: {round(100 - info[\"total_score_diff\"] / 100 / info[\"total_count\"], 2)}')\n",
        "  print(f'総合評価: 実装途中')"
      ],
      "metadata": {
        "id": "pnu61FZJlfs4",
        "cellView": "form"
      },
      "execution_count": null,
      "outputs": []
    },
    {
      "cell_type": "code",
      "source": [
        "#@title 詳細レポート保存 (実装途中)\n",
        "!rm -rfd result | true\n",
        "!rm artifacts.zip | true\n",
        "!mkdir result\n",
        "open(\"result/pred.json\", \"wt\").write(json.dumps(report[\"pred\"], indent=4))\n",
        "open(\"result/meta.json\", \"wt\").write(\n",
        "    json.dumps({\n",
        "        \"playerInfo\": report[\"playerInfo\"],\n",
        "        \"haihuId\": report[\"haihuId\"],\n",
        "        \"nagaVersion\": report[\"nagaVersion\"],\n",
        "        \"gameType\": report[\"gameType\"]\n",
        "    }, ensure_ascii = False, indent=4)\n",
        ")\n",
        "\n",
        "open(\"result/actor_0.txt\", \"wt\").write(actor_logs[0])\n",
        "open(\"result/actor_1.txt\", \"wt\").write(actor_logs[1])\n",
        "open(\"result/actor_2.txt\", \"wt\").write(actor_logs[2])\n",
        "open(\"result/actor_3.txt\", \"wt\").write(actor_logs[3])\n",
        "\n",
        "!zip -j -r artifacts.zip result\n",
        "files.download(\"artifacts.zip\")"
      ],
      "metadata": {
        "id": "A-DdHxAxXzv6",
        "cellView": "form"
      },
      "execution_count": null,
      "outputs": []
    },
    {
      "cell_type": "code",
      "source": [],
      "metadata": {
        "id": "-YsPuToCFe27"
      },
      "execution_count": null,
      "outputs": []
    }
  ]
}